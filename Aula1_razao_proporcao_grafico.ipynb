{
  "nbformat": 4,
  "nbformat_minor": 0,
  "metadata": {
    "colab": {
      "provenance": [],
      "authorship_tag": "ABX9TyNr1LLIrb6URCB3AmAUG2Iz",
      "include_colab_link": true
    },
    "kernelspec": {
      "name": "python3",
      "display_name": "Python 3"
    },
    "language_info": {
      "name": "python"
    }
  },
  "cells": [
    {
      "cell_type": "markdown",
      "metadata": {
        "id": "view-in-github",
        "colab_type": "text"
      },
      "source": [
        "<a href=\"https://colab.research.google.com/github/Linomc/Dimensionamento_Backend/blob/main/Aula1_razao_proporcao_grafico.ipynb\" target=\"_parent\"><img src=\"https://colab.research.google.com/assets/colab-badge.svg\" alt=\"Open In Colab\"/></a>"
      ]
    },
    {
      "cell_type": "markdown",
      "source": [
        "# Aula 01\n",
        "\n",
        "## Vamos responder a seguinte questão\n",
        "\n",
        "1. Suponhamos que num determinado ano (vamos entender como ano 1), você tenha contabilizado todos os ganhos (receitas) e esse somatorio deu:\n",
        "* ano 1: R$14.400,00\n",
        "\n",
        "Mas no ano (vamos entender como ano 2) seguinte você teve novas oportunidades e conseguiu aumentar sua receita e esse somatório deu:\n",
        "* ano 2: R$20.160,00\n",
        "\n",
        "**Como podemos comparar os ganhos nesses intervalos de dois anos?**\n",
        "\n",
        "- Obs. Podemos pensar na diferença entre os dois anos, mas isso nos dá apenas a ideia de crescimento (nesse caso específico, já que o ano 2 é maior que o ano 1) ou retração (encolhimento), não a relação comparativa entre eles.\n"
      ],
      "metadata": {
        "id": "okBfIA41xkwG"
      }
    },
    {
      "cell_type": "markdown",
      "source": [
        "### Vamos aquecer, que tal? Vamos verificar o que lembra e como você aplica, clique no link abaixo:\n",
        "\n",
        "[aula01- razão, proporção e porcentagem - parte 01](https://docs.google.com/forms/d/e/1FAIpQLSdrVv-Qa1vHzEwZNMuR5WuWK3V4El2LPVJgU1HN1395VIghQw/viewform)\n"
      ],
      "metadata": {
        "id": "Pu0MoizZpEY0"
      }
    },
    {
      "cell_type": "markdown",
      "source": [
        "### Que tal entender um pouco de programação, para acompanhar a solução abaixo?\n",
        "\n",
        "[aula 01 programação]()"
      ],
      "metadata": {
        "id": "0jvdK9C4luXq"
      }
    },
    {
      "cell_type": "code",
      "source": [
        "receita_ano_1 = 14400\n",
        "receita_ano_2 = 20160\n",
        "crescimento = receita_ano_2/receita_ano_1\n",
        "print (f'Os ganhos da pessoa aumentaram {crescimento}, do ano 2 em relação ao ano 1.')"
      ],
      "metadata": {
        "id": "uOBkKIh5xhvF",
        "colab": {
          "base_uri": "https://localhost:8080/"
        },
        "outputId": "ea509638-7dd3-4bce-d31a-885fe57bd3f8"
      },
      "execution_count": 3,
      "outputs": [
        {
          "output_type": "stream",
          "name": "stdout",
          "text": [
            "Os ganhos da pessoa aumentaram 1.4, do ano 2 em relação ao ano 1.\n"
          ]
        }
      ]
    },
    {
      "cell_type": "markdown",
      "source": [
        "### Podemos entender esse visualmente por meio das ferramentas computacionais? Sim, faremos um gráfico para entender visualmente esse resultado."
      ],
      "metadata": {
        "id": "Ocxn9EpN38hX"
      }
    },
    {
      "cell_type": "code",
      "execution_count": 6,
      "metadata": {
        "id": "W3UhMYnqxZ0X",
        "colab": {
          "base_uri": "https://localhost:8080/",
          "height": 541
        },
        "outputId": "ffb10a78-b128-41a3-c21a-29f76d6d3329"
      },
      "outputs": [
        {
          "output_type": "execute_result",
          "data": {
            "text/plain": [
              "[(0.0, 22000.0),\n",
              " Text(0.5, 0, 'tempo'),\n",
              " Text(0, 0.5, 'dinheiro'),\n",
              " Text(0.5, 1.0, 'Crescimento Pessoal')]"
            ]
          },
          "metadata": {},
          "execution_count": 6
        },
        {
          "output_type": "display_data",
          "data": {
            "text/plain": [
              "<Figure size 640x480 with 1 Axes>"
            ],
            "image/png": "[encoded data removed]"
          },
          "metadata": {}
        }
      ],
      "source": [
        "import matplotlib.pyplot as plt\n",
        "anos= ['ano_1','ano_2']\n",
        "receitas = [receita_ano_1,receita_ano_2]\n",
        "fig, ax = plt.subplots()\n",
        "ax.bar(anos, receitas)\n",
        "ax.set(ylim=[0,22000], xlabel='tempo', ylabel='dinheiro', title='Crescimento Pessoal')"
      ]
    },
    {
      "cell_type": "markdown",
      "source": [
        "## Conceito de fração como razão e conceito de razão\n",
        "\n",
        "- Dados dois números **a** e **b**, com b $\\not=$ 0, dizemos **razão de a para b**, ou apenas **razão entre a e b**, nessa ordem, o quociente (resultado) de $\\frac{a}{b}$ que também pode ser indicado por a:b.\n",
        "\n",
        "- O número _a_ (que no exemplo acima foi a receita do ano 1 = 14400) é chamado de __antecedente__, e _b_ (que no exemplo acima foi a receita do ano 2=20160) é chamado de __consequente__.\n",
        "\n",
        "- obs. na situação descrita acima onde queriamos comparar o ano 1 com o ano 2 e sabíamos que o número consequente do ano 2 é maior que do ano 1, então também sabíamos que houve crescimento do ano 1 para o ano 2, para obter manter a plausibilidade, o resultado precisa ser maior que 1 e só conseguimos isso assumindo o receita do ano 1 no denominador, nesse caso *a $\\not=$ 0*, ficando assim $\\frac{b}{a}$."
      ],
      "metadata": {
        "id": "I2JGN2rHlnbv"
      }
    }
  ]
}